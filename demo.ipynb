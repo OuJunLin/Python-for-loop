{
 "cells": [
  {
   "cell_type": "markdown",
   "metadata": {},
   "source": [
    "## 1. 使用 for 迴圈可以重複執行想要執行的指令"
   ]
  },
  {
   "cell_type": "code",
   "execution_count": 1,
   "metadata": {},
   "outputs": [
    {
     "name": "stdout",
     "output_type": "stream",
     "text": [
      "0\n",
      "1\n",
      "2\n"
     ]
    }
   ],
   "source": [
    "for v in range(3):\n",
    "\tprint(v)"
   ]
  },
  {
   "cell_type": "markdown",
   "metadata": {},
   "source": [
    "## 2. range(n)"
   ]
  },
  {
   "cell_type": "code",
   "execution_count": 2,
   "metadata": {},
   "outputs": [
    {
     "name": "stdout",
     "output_type": "stream",
     "text": [
      "1\n",
      "3\n",
      "5\n"
     ]
    }
   ],
   "source": [
    "for v in range(1, 6, 2):\n",
    "    print(v)"
   ]
  },
  {
   "cell_type": "markdown",
   "metadata": {},
   "source": [
    "## 例題練習"
   ]
  },
  {
   "cell_type": "markdown",
   "metadata": {},
   "source": [
    "### 1. 輸入 n，程式輸出從 1 累加至 n 的結果，例如 n=4 則輸出 1+2+3+4=10 的結果"
   ]
  },
  {
   "cell_type": "code",
   "execution_count": 3,
   "metadata": {},
   "outputs": [
    {
     "name": "stdout",
     "output_type": "stream",
     "text": [
      "15\n"
     ]
    }
   ],
   "source": [
    "n = int(input())\n",
    "sum1 = 0\n",
    "\n",
    "for i in range(n+1):\n",
    "    sum1 += i\n",
    "\n",
    "print(sum1)"
   ]
  },
  {
   "cell_type": "markdown",
   "metadata": {},
   "source": [
    "### 2. 輸入整數 a 和 b 輸出 a 連加至 b 的結果"
   ]
  },
  {
   "cell_type": "code",
   "execution_count": 4,
   "metadata": {},
   "outputs": [
    {
     "name": "stdout",
     "output_type": "stream",
     "text": [
      "35\n"
     ]
    }
   ],
   "source": [
    "a, b = map(int, input().split())\n",
    "sum1 = 0\n",
    "\n",
    "for i in range(a, b+1):\n",
    "    sum1 += i\n",
    "\n",
    "print(sum1)"
   ]
  },
  {
   "cell_type": "markdown",
   "metadata": {},
   "source": [
    "### 3. 輸入正整數 n 並輸出 n! 的結果，例如 n=4 則輸出 4*3*2*1=24 的結果"
   ]
  },
  {
   "cell_type": "code",
   "execution_count": 5,
   "metadata": {},
   "outputs": [
    {
     "name": "stdout",
     "output_type": "stream",
     "text": [
      "24\n"
     ]
    }
   ],
   "source": [
    "n = int(input())\n",
    "result = 1\n",
    "\n",
    "for i in range(1, n+1):\n",
    "    result *= i\n",
    "\n",
    "print(result)"
   ]
  },
  {
   "cell_type": "markdown",
   "metadata": {},
   "source": [
    "### 4. 讓使用者連續輸入 10 個數字，如果輸入的數字可被 3 整除才累加"
   ]
  },
  {
   "cell_type": "code",
   "execution_count": null,
   "metadata": {},
   "outputs": [],
   "source": [
    "num_list = input().split()\n",
    "result = 0\n",
    "\n",
    "for i in range(len(num_list)):\n",
    "    if int(num_list[i]) % 3 ==0:\n",
    "        result += int(num_list[i])\n",
    "\n",
    "print(result)"
   ]
  },
  {
   "cell_type": "markdown",
   "metadata": {},
   "source": [
    "### 5. 讓使用者輸入 10 個數字並進行累加，但累加的值不得大於 100 ，當加上去的值超過 100 或輸入未滿 10 個數字時則離開迴圈"
   ]
  },
  {
   "cell_type": "code",
   "execution_count": 6,
   "metadata": {},
   "outputs": [
    {
     "name": "stdout",
     "output_type": "stream",
     "text": [
      "input error\n"
     ]
    }
   ],
   "source": [
    "num_list = input().split()\n",
    "result = 0\n",
    "\n",
    "if len(num_list) == 10:\n",
    "    for i in range(len(num_list)):\n",
    "        if result + int(num_list[i]) < 100:\n",
    "            result += int(num_list[i])\n",
    "        else:\n",
    "            print(\"stop\")\n",
    "            break\n",
    "else:\n",
    "    print(\"input error\")\n",
    "\n",
    "if result != 0:\n",
    "    print(result)"
   ]
  },
  {
   "cell_type": "markdown",
   "metadata": {},
   "source": [
    "## 2. 巢狀迴圈"
   ]
  },
  {
   "cell_type": "markdown",
   "metadata": {},
   "source": [
    "### 範例1 :\n",
    "\n",
    "### 撰寫一程式，由使用者輸入一正整數 n 及字元 c ，輸出以字元 c 印出邊長為 n 之實心正方形"
   ]
  },
  {
   "cell_type": "code",
   "execution_count": null,
   "metadata": {},
   "outputs": [],
   "source": [
    "str1 = input()\n",
    "n = int(str1[0])\n",
    "c = str1[1]\n",
    "\n",
    "for i in range(n):\n",
    "    for j in range(n):\n",
    "        print(c, end=\"\")\n",
    "    print()"
   ]
  },
  {
   "cell_type": "markdown",
   "metadata": {},
   "source": [
    "### 範例2 :\n",
    "\n",
    "### 輸入一正整數 n ( 0<n≤9 ) ，輸出 n*n 的9*9乘法表"
   ]
  },
  {
   "cell_type": "code",
   "execution_count": 7,
   "metadata": {},
   "outputs": [
    {
     "name": "stdout",
     "output_type": "stream",
     "text": [
      "1 \t2 \t3 \t4 \t5 \t\n",
      "2 \t4 \t6 \t8 \t10 \t\n",
      "3 \t6 \t9 \t12 \t15 \t\n",
      "4 \t8 \t12 \t16 \t20 \t\n",
      "5 \t10 \t15 \t20 \t25 \t\n"
     ]
    }
   ],
   "source": [
    "n = int(input())\n",
    "\n",
    "for i in range(1, n+1):\n",
    "    for j in range(1, n+1):\n",
    "        print(i*j, \"\\t\", end=\"\")\n",
    "    print()"
   ]
  },
  {
   "cell_type": "markdown",
   "metadata": {},
   "source": [
    "### 範例3 :\n",
    "\n",
    "### 讓使用者輸入一正整數 n ，利用迴圈以字元 ” * \" 輸出高度為 n 的三角形"
   ]
  },
  {
   "cell_type": "code",
   "execution_count": 8,
   "metadata": {},
   "outputs": [
    {
     "name": "stdout",
     "output_type": "stream",
     "text": [
      "*\n",
      "**\n",
      "***\n",
      "****\n",
      "*****\n"
     ]
    }
   ],
   "source": [
    "n = int(input())\n",
    "\n",
    "for i in range(1, n+1):\n",
    "    for j in range(1, i+1):\n",
    "        print(\"*\", end=\"\")\n",
    "    print()"
   ]
  },
  {
   "cell_type": "markdown",
   "metadata": {},
   "source": [
    "## 範例4 :\n",
    "\n",
    "### 讓使用者輸入一正整數 n ，利用迴圈以字元 ” * \" 輸出高度為 n 的反向三角形"
   ]
  },
  {
   "cell_type": "code",
   "execution_count": 9,
   "metadata": {},
   "outputs": [
    {
     "name": "stdout",
     "output_type": "stream",
     "text": [
      "    *\n",
      "   **\n",
      "  ***\n",
      " ****\n",
      "*****\n"
     ]
    }
   ],
   "source": [
    "n = int(input())\n",
    "\n",
    "for i in range(n, 0, -1):\n",
    "    for j in range(1, n+1):\n",
    "        if j >= i:\n",
    "            print(\"*\", end=\"\")\n",
    "        else:\n",
    "            print(\" \", end=\"\")\n",
    "    print()"
   ]
  }
 ],
 "metadata": {
  "kernelspec": {
   "display_name": "Python 3.10.6 64-bit",
   "language": "python",
   "name": "python3"
  },
  "language_info": {
   "codemirror_mode": {
    "name": "ipython",
    "version": 3
   },
   "file_extension": ".py",
   "mimetype": "text/x-python",
   "name": "python",
   "nbconvert_exporter": "python",
   "pygments_lexer": "ipython3",
   "version": "3.10.6"
  },
  "orig_nbformat": 4,
  "vscode": {
   "interpreter": {
    "hash": "fb4569285eef3a3450cb62085a5b1e0da4bce0af555edc33dcf29baf3acc1368"
   }
  }
 },
 "nbformat": 4,
 "nbformat_minor": 2
}
